{
 "metadata": {
  "language_info": {
   "codemirror_mode": {
    "name": "ipython",
    "version": 3
   },
   "file_extension": ".py",
   "mimetype": "text/x-python",
   "name": "python",
   "nbconvert_exporter": "python",
   "pygments_lexer": "ipython3",
   "version": "3.6.9-final"
  },
  "orig_nbformat": 2,
  "kernelspec": {
   "name": "python36964bitbcf9be5333f040939d06ab9135acc50a",
   "display_name": "Python 3.6.9 64-bit",
   "language": "python"
  }
 },
 "nbformat": 4,
 "nbformat_minor": 2,
 "cells": [
  {
   "cell_type": "code",
   "execution_count": null,
   "metadata": {},
   "outputs": [],
   "source": [
    "import tensorflow as tf\n",
    "from tensorflow.keras import Model\n",
    "from tensorflow.keras.models import *\n",
    "from tensorflow.keras.layers import *\n",
    "from tensorflow.keras.callbacks import *\n",
    "from tensorflow.keras.optimizers import *\n",
    "# from tensorflow.keras.applications.efficientnet import EfficientNetB4,EfficientNetB0,EfficientNetB7\n",
    "# from tensorflow.keras.applications.efficientnet import preprocess_input\n",
    "# from tensorflow.keras.applications.mobilenet_v2 import preprocess_input\n",
    "from tensorflow.keras.applications.mobilenet_v2 import MobileNetV2\n",
    "# from tensorflow.keras.applications.mobilenet import MobileNet\n",
    "from tensorflow.keras.applications.resnet_v2 import ResNet50V2, ResNet101V2, ResNet152V2\n",
    "# from tensorflow.keras.applications.resnet import ResNet50, ResNet101, ResNet152\n",
    "# from tensorflow.keras.applications.nasnet import NASNetMobile\n",
    "# from tensorflow.keras.applications.inception_resnet_v2 import InceptionResNetV2\n",
    "# from tensorflow.keras.applications.inception_v3 import InceptionV3\n",
    "from tensorflow.keras.applications.vgg16 import VGG16\n",
    "from tensorflow.keras.applications.vgg16 import preprocess_input\n",
    "# from tensorflow.keras.applications.vgg19 import VGG19\n",
    "# from tensorflow.keras.applications.xception import Xception\n",
    "# from tensorflow.keras.applications.densenet import DenseNet121,DenseNet169,DenseNet201\n",
    "from tensorflow.keras.layers import Dense, GlobalAveragePooling2D, BatchNormalization, Flatten, Dropout\n",
    "from tensorflow.keras.preprocessing.image import img_to_array, load_img\n",
    "from tensorflow.keras.preprocessing.image import ImageDataGenerator as IDG\n",
    "from sklearn.model_selection import train_test_split\n",
    "from sklearn.metrics import accuracy_score\n",
    "\n",
    "import os\n",
    "import random\n",
    "import numpy as np\n",
    "import matplotlib.pyplot as plt\n"
   ]
  },
  {
   "cell_type": "code",
   "execution_count": null,
   "metadata": {},
   "outputs": [],
   "source": [
    "from gradcam import VizGradCAM\n"
   ]
  },
  {
   "cell_type": "code",
   "execution_count": null,
   "metadata": {},
   "outputs": [],
   "source": [
    "# mannequin_path = os.path.join('../','eventsData/training/mannequin')\n",
    "# # not_mannequin_path = os.path.join('../','not_mannequin_filter')\n",
    "\n",
    "# mannequin_img_path = [os.path.join(mannequin_path,x) for x in os.listdir(mannequin_path)]\n",
    "# # not_mannequin_img_path = [os.path.join(not_mannequin_path,x) for x in os.listdir(not_mannequin_path)]\n",
    "\n",
    "# print(mannequin_img_path[:5])\n",
    "# # print(not_mannequin_img_path[:5])\n",
    "\n",
    "# random.shuffle(mannequin_img_path)\n",
    "# random.shuffle(mannequin_img_path)\n",
    "# # random.shuffle(not_mannequin_img_path)\n",
    "# # random.shuffle(not_mannequin_img_path)\n",
    "\n",
    "# print(mannequin_img_path[:5])\n",
    "# print(not_mannequin_img_path[:5])"
   ]
  },
  {
   "cell_type": "code",
   "execution_count": null,
   "metadata": {},
   "outputs": [],
   "source": [
    "# train_mannequin_img, test_mannequin_img = train_test_split(mannequin_img_path,test_size = 0.20,random_state=42)"
   ]
  },
  {
   "cell_type": "code",
   "execution_count": null,
   "metadata": {},
   "outputs": [],
   "source": [
    "train_datagen = IDG(rotation_range=30,width_shift_range=0.2,height_shift_range=0.2,horizontal_flip=True,shear_range=0.2,zoom_range=0.2,fill_mode='nearest')\n",
    "val_datagen = IDG()\n",
    "test_datagen = IDG()\n",
    "\n",
    "train_path = '../EventsFrame_19012020/upscaled_data_TrainTestVal/training'\n",
    "val_path = '../EventsFrame_19012020/upscaled_data_TrainTestVal/validation'\n",
    "test_path = '../EventsFrame_19012020/upscaled_data_TrainTestVal/testing'\n",
    "shape = (224,224,3)\n",
    "SHAPE = (224,224,3)"
   ]
  },
  {
   "cell_type": "code",
   "execution_count": null,
   "metadata": {},
   "outputs": [],
   "source": [
    "train_generator = train_datagen.flow_from_directory(train_path,target_size=(shape[0],shape[1]),batch_size=32,class_mode='categorical',shuffle=True,color_mode='rgb',classes=['mannequin'])\n",
    "val_generator = val_datagen.flow_from_directory(val_path,target_size=(shape[0],shape[1]),batch_size=32,class_mode='categorical',shuffle=True,color_mode='rgb',classes=['mannequin','not_mannequin'])\n",
    "test_generator = test_datagen.flow_from_directory(test_path,target_size=(shape[0],shape[1]),batch_size=32,class_mode='categorical')\n"
   ]
  },
  {
   "cell_type": "code",
   "execution_count": null,
   "metadata": {},
   "outputs": [],
   "source": [
    "# a,b = train_generator.next()"
   ]
  },
  {
   "cell_type": "code",
   "execution_count": null,
   "metadata": {},
   "outputs": [],
   "source": [
    "# a[1].max()"
   ]
  },
  {
   "cell_type": "code",
   "execution_count": null,
   "metadata": {},
   "outputs": [],
   "source": [
    "# plt.imshow(a[5])"
   ]
  },
  {
   "cell_type": "code",
   "execution_count": null,
   "metadata": {},
   "outputs": [],
   "source": [
    "# VizGradCAM(MobileNetV2(weights='imagenet'),a[4])"
   ]
  },
  {
   "cell_type": "code",
   "execution_count": null,
   "metadata": {},
   "outputs": [],
   "source": [
    "\n",
    "def get_model(train=True):\n",
    "    \n",
    "    pre_process = Lambda(preprocess_input)\n",
    "    vgg = VGG16(weights = 'imagenet', include_top = True, input_shape = SHAPE)\n",
    "    vgg = Model(vgg.input, vgg.layers[-1].output)\n",
    "    vgg.trainable = False\n",
    "    \n",
    "    inp = Input(SHAPE)\n",
    "    vgg_16_process = pre_process(GaussianNoise(0.1)(inp))\n",
    "    vgg_out = vgg(vgg_16_process)\n",
    "    \n",
    "    noise = Lambda(tf.zeros_like)(vgg_out)\n",
    "    noise = GaussianNoise(0.1)(noise)\n",
    "\n",
    "    if train:\n",
    "        x = Lambda(lambda z: tf.concat(z, axis=0))([vgg_out,noise])\n",
    "        x = Activation('relu')(x)\n",
    "    else:\n",
    "        x = vgg_out\n",
    "        \n",
    "    x = Dense(512, activation='relu')(x)\n",
    "    x = Dense(128, activation='relu')(x)\n",
    "    out = Dense(2, activation='softmax')(x)\n",
    "\n",
    "    model = Model(inp, out)\n",
    "    model.compile(Adam(lr=1e-4), loss='binary_crossentropy')\n",
    "    \n",
    "    return model"
   ]
  },
  {
   "cell_type": "code",
   "execution_count": null,
   "metadata": {},
   "outputs": [],
   "source": [
    "def wrap_generator(generator):\n",
    "    \n",
    "    while True:\n",
    "        x,y = next(generator)\n",
    "        y = tf.keras.utils.to_categorical(y)\n",
    "        zeros = tf.zeros_like(y) + tf.constant([1.,0.])\n",
    "        y = tf.concat([y,zeros], axis=0)\n",
    "        \n",
    "        yield x,y"
   ]
  },
  {
   "cell_type": "code",
   "execution_count": null,
   "metadata": {},
   "outputs": [],
   "source": [
    "model = get_model()"
   ]
  },
  {
   "cell_type": "code",
   "execution_count": null,
   "metadata": {},
   "outputs": [],
   "source": [
    "model.summary()"
   ]
  },
  {
   "cell_type": "code",
   "execution_count": null,
   "metadata": {},
   "outputs": [],
   "source": [
    "# efficientB2_model = VGG16(include_top=True,weights='imagenet',input_shape=shape)\n",
    "# efficientB2_model.trainable=False\n",
    "# x = GlobalAveragePooling2D()(efficientB2_model.output)\n",
    "# x = Dense(512,activation='relu')(x)\n",
    "# x = Dropout(0.5)(x)\n",
    "# x = Dense(128,activation='relu')(x)\n",
    "# x = Dropout(0.5)(x)\n",
    "# x = Dense(2,activation='softmax')(x)\n",
    "\n",
    "# model = Model(efficientB2_model.input,x)\n"
   ]
  },
  {
   "cell_type": "code",
   "execution_count": null,
   "metadata": {},
   "outputs": [],
   "source": [
    "model.compile(loss='binary_crossentropy',optimizer=tf.keras.optimizers.Adam(learning_rate=1e-4),metrics=['accuracy'])"
   ]
  },
  {
   "cell_type": "code",
   "execution_count": null,
   "metadata": {},
   "outputs": [],
   "source": [
    "history=model.fit(wrap_generator(train_generator),steps_per_epoch=train_generator.samples/train_generator.batch_size,epochs=10)"
   ]
  },
  {
   "cell_type": "code",
   "execution_count": null,
   "metadata": {},
   "outputs": [],
   "source": [
    "val_generator = val_datagen.flow_from_directory(val_path,target_size=(shape[0],shape[1]),batch_size=32,class_mode='categorical',shuffle=True,color_mode='rgb',classes=['mannequin','not_mannequin'])"
   ]
  },
  {
   "cell_type": "code",
   "execution_count": null,
   "metadata": {},
   "outputs": [],
   "source": [
    "test_num = val_generator.samples\n",
    "\n",
    "label_test = []\n",
    "for i in range((test_num // val_generator.batch_size)+1):\n",
    "    X,y = val_generator.next()\n",
    "    label_test.append(y)\n",
    "        \n",
    "label_test = np.argmax(np.vstack(label_test), axis=1)\n",
    "label_test.shape"
   ]
  },
  {
   "cell_type": "code",
   "execution_count": null,
   "metadata": {},
   "outputs": [],
   "source": [
    "\n",
    "### SWITCH TO INFERENCE MODE TO COMPUTE PREDICTIONS ###\n",
    "\n",
    "ineference_model = get_model(train=False)\n",
    "ineference_model.set_weights(model.get_weights())"
   ]
  },
  {
   "cell_type": "code",
   "execution_count": null,
   "metadata": {},
   "outputs": [],
   "source": [
    "pred_test = np.argmax(ineference_model.predict(val_generator), axis=1)"
   ]
  },
  {
   "cell_type": "code",
   "execution_count": null,
   "metadata": {},
   "outputs": [],
   "source": [
    "print('ACCURACY:', accuracy_score(label_test, pred_test))"
   ]
  },
  {
   "cell_type": "code",
   "execution_count": null,
   "metadata": {},
   "outputs": [],
   "source": [
    "model.save('ResNet50V2_softmax_Synthetic_Upscale_Frame.h5')"
   ]
  },
  {
   "cell_type": "code",
   "execution_count": null,
   "metadata": {},
   "outputs": [],
   "source": [
    "tf.saved_model.save(model,\"mobilenetV2_softmax_GM_rescale\")"
   ]
  },
  {
   "cell_type": "code",
   "execution_count": null,
   "metadata": {},
   "outputs": [],
   "source": [
    "# from tensorflow.keras.models import load_model\n",
    "# model_import = load_model('mobilenetV2.h5')"
   ]
  },
  {
   "cell_type": "code",
   "execution_count": null,
   "metadata": {},
   "outputs": [],
   "source": []
  }
 ]
}