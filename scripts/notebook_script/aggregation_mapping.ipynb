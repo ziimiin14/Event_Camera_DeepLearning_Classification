{
 "metadata": {
  "language_info": {
   "codemirror_mode": {
    "name": "ipython",
    "version": 3
   },
   "file_extension": ".py",
   "mimetype": "text/x-python",
   "name": "python",
   "nbconvert_exporter": "python",
   "pygments_lexer": "ipython3",
   "version": "3.6.9-final"
  },
  "orig_nbformat": 2,
  "kernelspec": {
   "name": "python36964bitbcf9be5333f040939d06ab9135acc50a",
   "display_name": "Python 3.6.9 64-bit",
   "language": "python"
  }
 },
 "nbformat": 4,
 "nbformat_minor": 2,
 "cells": [
  {
   "cell_type": "code",
   "execution_count": null,
   "metadata": {},
   "outputs": [],
   "source": [
    "import numpy as np"
   ]
  },
  {
   "cell_type": "code",
   "execution_count": null,
   "metadata": {},
   "outputs": [],
   "source": [
    "def cal_mg(points,value):\n",
    "    rows = 246\n",
    "    cols = 326\n",
    "    events_img = np.zeros((rows,cols))\n",
    "    \n",
    "    for i in range(points.shape[0]):\n",
    "\n",
    "        hor = points[i,0]\n",
    "        ver = points[i,1]\n",
    "        \n",
    "\n",
    "        events_img[ver:ver+7,hor:hor+7] = events_img[ver:ver+7,hor:hor+7] + value\n",
    "    \n",
    "    \n",
    "    events_img = events_img[3:rows-3,3:cols-3]\n",
    "    return events_img\n",
    "\n",
    "        "
   ]
  },
  {
   "cell_type": "code",
   "execution_count": null,
   "metadata": {},
   "outputs": [],
   "source": [
    "points =np.array((150,150))\n",
    "points = points.reshape(1,-1)\n",
    "hor = points[0,0]\n",
    "ver = points[0,1]\n",
    "x = np.arange(hor-3,hor+4)\n",
    "y = np.arange(ver-3,ver+4)\n",
    "X,Y = np.meshgrid(x,y)\n",
    "T = np.array((X.T.flatten(),Y.T.flatten()))\n",
    "T = T.T\n",
    "exponent=np.sum((T-points)**2,1)/(2*(1**2))\n",
    "amplitude = 1/(1*np.sqrt(2*np.pi))\n",
    "val = amplitude* np.exp(-exponent)\n",
    "val = val.reshape(7,7)\n"
   ]
  },
  {
   "cell_type": "code",
   "execution_count": null,
   "metadata": {},
   "outputs": [],
   "source": [
    "x = np.array([[0,0],[190,190],[319,239]])"
   ]
  },
  {
   "source": [
    "img = cal_mg(x,val)"
   ],
   "cell_type": "code",
   "metadata": {},
   "execution_count": null,
   "outputs": []
  },
  {
   "cell_type": "code",
   "execution_count": null,
   "metadata": {},
   "outputs": [],
   "source": []
  }
 ]
}