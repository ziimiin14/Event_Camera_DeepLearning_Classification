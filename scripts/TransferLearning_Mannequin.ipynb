{
 "metadata": {
  "language_info": {
   "codemirror_mode": {
    "name": "ipython",
    "version": 3
   },
   "file_extension": ".py",
   "mimetype": "text/x-python",
   "name": "python",
   "nbconvert_exporter": "python",
   "pygments_lexer": "ipython3",
   "version": "3.6.9-final"
  },
  "orig_nbformat": 2,
  "kernelspec": {
   "name": "python36964bitbcf9be5333f040939d06ab9135acc50a",
   "display_name": "Python 3.6.9 64-bit",
   "language": "python"
  }
 },
 "nbformat": 4,
 "nbformat_minor": 2,
 "cells": [
  {
   "cell_type": "code",
   "execution_count": null,
   "metadata": {},
   "outputs": [],
   "source": [
    "import tensorflow as tf\n",
    "from tensorflow.keras import Model\n",
    "from tensorflow.keras.applications.efficientnet import EfficientNetB2\n",
    "# from tensorflow.keras.applications.efficientnet import preprocess_input\n",
    "from tensorflow.keras.applications.mobilenet_v2 import preprocess_input\n",
    "from tensorflow.keras.applications.mobilenet_v2 import MobileNetV2\n",
    "from tensorflow.keras.applications.vgg16 import VGG16\n",
    "from tensorflow.keras.applications.inception_resnet_v2 import InceptionResNetV2\n",
    "from tensorflow.keras.layers import Dense, GlobalAveragePooling2D, BatchNormalization, Flatten, Dropout\n",
    "from tensorflow.keras.preprocessing.image import img_to_array, load_img\n",
    "from tensorflow.keras.preprocessing.image import ImageDataGenerator as IDG\n",
    "from sklearn.model_selection import train_test_split\n",
    "from sklearn.metrics import accuracy_score\n",
    "\n",
    "import os\n",
    "import random\n",
    "import numpy as np\n",
    "import matplotlib.pyplot as plt\n"
   ]
  },
  {
   "cell_type": "code",
   "execution_count": null,
   "metadata": {},
   "outputs": [],
   "source": [
    "mannequin_path = os.path.join('../','eventsData/training/mannequin')\n",
    "# not_mannequin_path = os.path.join('../','not_mannequin_filter')\n",
    "\n",
    "mannequin_img_path = [os.path.join(mannequin_path,x) for x in os.listdir(mannequin_path)]\n",
    "# not_mannequin_img_path = [os.path.join(not_mannequin_path,x) for x in os.listdir(not_mannequin_path)]\n",
    "\n",
    "print(mannequin_img_path[:5])\n",
    "# print(not_mannequin_img_path[:5])\n",
    "\n",
    "random.shuffle(mannequin_img_path)\n",
    "random.shuffle(mannequin_img_path)\n",
    "# random.shuffle(not_mannequin_img_path)\n",
    "# random.shuffle(not_mannequin_img_path)\n",
    "\n",
    "print(mannequin_img_path[:5])\n",
    "# print(not_mannequin_img_path[:5])"
   ]
  },
  {
   "cell_type": "code",
   "execution_count": null,
   "metadata": {},
   "outputs": [],
   "source": [
    "train_mannequin_img, test_mannequin_img = train_test_split(mannequin_img_path,test_size = 0.20,random_state=42)"
   ]
  },
  {
   "cell_type": "code",
   "execution_count": null,
   "metadata": {},
   "outputs": [],
   "source": [
    "train_datagen = IDG(preprocessing_function=preprocess_input)\n",
    "val_datagen = IDG(preprocessing_function=preprocess_input)\n",
    "test_datagen = IDG(preprocessing_function=preprocess_input)\n",
    "\n",
    "train_path = '../eventsData_train'\n",
    "val_path = '../eventsData_val'\n",
    "test_path = '../eventsData_test'\n",
    "shape = (224,224,3)"
   ]
  },
  {
   "cell_type": "code",
   "execution_count": null,
   "metadata": {},
   "outputs": [],
   "source": [
    "train_generator = train_datagen.flow_from_directory(train_path,target_size=(shape[0],shape[1]),batch_size=32,class_mode='categorical',shuffle=True,seed=33)\n",
    "val_generator = val_datagen.flow_from_directory(val_path,target_size=(shape[0],shape[1]),batch_size=32,class_mode='categorical',shuffle=True,seed=33)\n",
    "test_generator = test_datagen.flow_from_directory(test_path,target_size=(shape[0],shape[1]),batch_size=32,class_mode='categorical')\n"
   ]
  },
  {
   "cell_type": "code",
   "execution_count": null,
   "metadata": {},
   "outputs": [],
   "source": [
    "efficientB2_model = MobileNetV2(include_top=False,weights='imagenet',input_shape=shape)\n",
    "efficientB2_model.trainable=False\n",
    "x = GlobalAveragePooling2D()(efficientB2_model.output)\n",
    "x = Dense(512,activation='relu')(x)\n",
    "x = Dropout(0.5)(x)\n",
    "x = Dense(2,activation='softmax')(x)\n",
    "\n",
    "model = Model(efficientB2_model.input,x)\n",
    "model.summary()\n"
   ]
  },
  {
   "cell_type": "code",
   "execution_count": null,
   "metadata": {},
   "outputs": [],
   "source": [
    "model.compile(loss='categorical_crossentropy',optimizer=tf.keras.optimizers.Adam(learning_rate=0.0001),metrics=['accuracy'])"
   ]
  },
  {
   "cell_type": "code",
   "execution_count": null,
   "metadata": {},
   "outputs": [],
   "source": [
    "history=model.fit(train_generator,epochs=20,validation_data=val_generator)"
   ]
  },
  {
   "cell_type": "code",
   "execution_count": null,
   "metadata": {},
   "outputs": [],
   "source": [
    "model.save('mobilenetV2_softmax.h5')"
   ]
  },
  {
   "cell_type": "code",
   "execution_count": null,
   "metadata": {},
   "outputs": [],
   "source": [
    "# from tensorflow.keras.models import load_model\n",
    "# model_import = load_model('mobilenetV2.h5')"
   ]
  },
  {
   "cell_type": "code",
   "execution_count": null,
   "metadata": {},
   "outputs": [],
   "source": []
  }
 ]
}